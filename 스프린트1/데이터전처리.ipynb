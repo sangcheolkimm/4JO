{
 "cells": [
  {
   "cell_type": "code",
   "execution_count": 1,
   "metadata": {},
   "outputs": [],
   "source": [
    "import pandas as pd"
   ]
  },
  {
   "cell_type": "code",
   "execution_count": 2,
   "metadata": {},
   "outputs": [],
   "source": [
    "e_df = pd.read_excel('C:/Users/admin/Desktop/스프린트1/광주광역시 전력사용량 2018_2022.xlsx',index_col=[0])"
   ]
  },
  {
   "cell_type": "code",
   "execution_count": 4,
   "metadata": {},
   "outputs": [],
   "source": [
    "e_ind_df = e_df[e_df['계약종별']=='산업용']\n",
    "e_farm_df=e_df[e_df['계약종별']=='농사용']\n",
    "e_edu_df = e_df[e_df['계약종별']=='교육용']\n",
    "e_house_df = e_df[e_df['계약종별']=='주택용']"
   ]
  },
  {
   "cell_type": "code",
   "execution_count": 5,
   "metadata": {},
   "outputs": [
    {
     "name": "stdout",
     "output_type": "stream",
     "text": [
      "<class 'pandas.core.frame.DataFrame'>\n",
      "RangeIndex: 300 entries, 0 to 299\n",
      "Data columns (total 6 columns):\n",
      " #   Column  Non-Null Count  Dtype \n",
      "---  ------  --------------  ----- \n",
      " 0   연도      300 non-null    int64 \n",
      " 1   시도      300 non-null    object\n",
      " 2   시군구     300 non-null    object\n",
      " 3   계약종별    300 non-null    object\n",
      " 4   월별      300 non-null    object\n",
      " 5   전력사용량   300 non-null    int64 \n",
      "dtypes: int64(2), object(4)\n",
      "memory usage: 14.2+ KB\n"
     ]
    }
   ],
   "source": [
    "e_ind_df = e_ind_df.melt(id_vars=['연도','시도','시군구','계약종별'],\n",
    "                var_name='월별',\n",
    "                value_name='전력사용량')\n",
    "e_farm_df= e_farm_df.melt(id_vars=['연도','시도','시군구','계약종별'],\n",
    "                var_name='월별',\n",
    "                value_name='전력사용량')\n",
    "e_house_df = e_house_df.melt(id_vars=['연도','시도','시군구','계약종별'],\n",
    "                var_name='월별',\n",
    "                value_name='전력사용량')\n",
    "e_edu_df = e_edu_df.melt(id_vars=['연도','시도','시군구','계약종별'],\n",
    "                        var_name='월별',\n",
    "                        value_name='전력사용량')\n",
    "\n",
    "e_house_df.info()"
   ]
  },
  {
   "cell_type": "code",
   "execution_count": 6,
   "metadata": {},
   "outputs": [],
   "source": [
    "#산업용\n",
    "ind_east = e_ind_df[e_ind_df['시군구']=='동구']\n",
    "ind_west = e_ind_df[e_ind_df['시군구']=='서구']\n",
    "ind_south = e_ind_df[e_ind_df['시군구']=='남구']\n",
    "ind_north = e_ind_df[e_ind_df['시군구']=='북구']\n",
    "ind_gwang = e_ind_df[e_ind_df['시군구']=='광산구']\n",
    "\n",
    "#교육용\n",
    "edu_east = e_edu_df[e_edu_df['시군구']=='동구']\n",
    "edu_west = e_edu_df[e_edu_df['시군구']=='서구']\n",
    "edu_south = e_edu_df[e_edu_df['시군구']=='남구']\n",
    "edu_north = e_edu_df[e_edu_df['시군구']=='북구']\n",
    "edu_gwang = e_edu_df[e_edu_df['시군구']=='광산구']\n",
    "\n",
    "#농업용\n",
    "farm_east = e_farm_df[e_farm_df['시군구']=='동구']\n",
    "farm_west = e_farm_df[e_farm_df['시군구']=='서구']\n",
    "farm_south = e_farm_df[e_farm_df['시군구']=='남구']\n",
    "farm_north = e_farm_df[e_farm_df['시군구']=='북구']\n",
    "farm_gwang = e_farm_df[e_farm_df['시군구']=='광산구']\n",
    "\n",
    "\n",
    "#주택용\n",
    "h_east = e_house_df[e_house_df['시군구']=='동구']\n",
    "h_west = e_house_df[e_house_df['시군구']=='서구']\n",
    "h_south = e_house_df[e_house_df['시군구']=='남구']\n",
    "h_north = e_house_df[e_house_df['시군구']=='북구']\n",
    "h_gwang = e_house_df[e_house_df['시군구']=='광산구']"
   ]
  },
  {
   "cell_type": "code",
   "execution_count": 7,
   "metadata": {},
   "outputs": [
    {
     "name": "stderr",
     "output_type": "stream",
     "text": [
      "C:\\Users\\admin\\AppData\\Local\\Temp\\ipykernel_2496\\1081462910.py:3: SettingWithCopyWarning: \n",
      "A value is trying to be set on a copy of a slice from a DataFrame.\n",
      "Try using .loc[row_indexer,col_indexer] = value instead\n",
      "\n",
      "See the caveats in the documentation: https://pandas.pydata.org/pandas-docs/stable/user_guide/indexing.html#returning-a-view-versus-a-copy\n",
      "  h_east['월별'] = pd.Categorical(h_east['월별'], categories=month_order, ordered=True)\n",
      "C:\\Users\\admin\\AppData\\Local\\Temp\\ipykernel_2496\\1081462910.py:4: SettingWithCopyWarning: \n",
      "A value is trying to be set on a copy of a slice from a DataFrame.\n",
      "Try using .loc[row_indexer,col_indexer] = value instead\n",
      "\n",
      "See the caveats in the documentation: https://pandas.pydata.org/pandas-docs/stable/user_guide/indexing.html#returning-a-view-versus-a-copy\n",
      "  h_west['월별'] = pd.Categorical(h_west['월별'], categories=month_order, ordered=True)\n",
      "C:\\Users\\admin\\AppData\\Local\\Temp\\ipykernel_2496\\1081462910.py:5: SettingWithCopyWarning: \n",
      "A value is trying to be set on a copy of a slice from a DataFrame.\n",
      "Try using .loc[row_indexer,col_indexer] = value instead\n",
      "\n",
      "See the caveats in the documentation: https://pandas.pydata.org/pandas-docs/stable/user_guide/indexing.html#returning-a-view-versus-a-copy\n",
      "  h_south['월별'] = pd.Categorical(h_south['월별'], categories=month_order, ordered=True)\n",
      "C:\\Users\\admin\\AppData\\Local\\Temp\\ipykernel_2496\\1081462910.py:6: SettingWithCopyWarning: \n",
      "A value is trying to be set on a copy of a slice from a DataFrame.\n",
      "Try using .loc[row_indexer,col_indexer] = value instead\n",
      "\n",
      "See the caveats in the documentation: https://pandas.pydata.org/pandas-docs/stable/user_guide/indexing.html#returning-a-view-versus-a-copy\n",
      "  h_north['월별'] = pd.Categorical(h_north['월별'], categories=month_order, ordered=True)\n"
     ]
    }
   ],
   "source": [
    "month_order = ['1월', '2월', '3월', '4월', '5월', '6월', '7월', '8월', '9월', '10월', '11월', '12월']\n",
    "\n",
    "h_east['월별'] = pd.Categorical(h_east['월별'], categories=month_order, ordered=True)\n",
    "h_west['월별'] = pd.Categorical(h_west['월별'], categories=month_order, ordered=True)\n",
    "h_south['월별'] = pd.Categorical(h_south['월별'], categories=month_order, ordered=True)\n",
    "h_north['월별'] = pd.Categorical(h_north['월별'], categories=month_order, ordered=True)"
   ]
  },
  {
   "cell_type": "code",
   "execution_count": null,
   "metadata": {},
   "outputs": [],
   "source": []
  }
 ],
 "metadata": {
  "kernelspec": {
   "display_name": "base",
   "language": "python",
   "name": "python3"
  },
  "language_info": {
   "codemirror_mode": {
    "name": "ipython",
    "version": 3
   },
   "file_extension": ".py",
   "mimetype": "text/x-python",
   "name": "python",
   "nbconvert_exporter": "python",
   "pygments_lexer": "ipython3",
   "version": "3.9.13"
  },
  "orig_nbformat": 4
 },
 "nbformat": 4,
 "nbformat_minor": 2
}
