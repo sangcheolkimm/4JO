{
 "cells": [
  {
   "cell_type": "code",
   "execution_count": 1,
   "metadata": {},
   "outputs": [],
   "source": [
    "import pandas as pd\n",
    "import numpy as np\n",
    "import seaborn as sns\n",
    "import matplotlib.pyplot as plt\n",
    "import warnings \n",
    "warnings.filterwarnings('ignore')"
   ]
  },
  {
   "cell_type": "code",
   "execution_count": 22,
   "metadata": {},
   "outputs": [],
   "source": [
    "elc_2021_01 = pd.read_excel('C:/Users/admin/Desktop/스프린트1/광주전남 일별 전력사용량데이터/전력량추이정보+현황_2021.01.xls')\n",
    "elc_2021_02 = pd.read_excel('C:/Users/admin/Desktop/스프린트1/광주전남 일별 전력사용량데이터/전력량추이정보+현황_2021.02.xls')\n",
    "elc_2021_03 = pd.read_excel('C:/Users/admin/Desktop/스프린트1/광주전남 일별 전력사용량데이터/전력량추이정보+현황_2021.03.xls')\n",
    "elc_2021_04 = pd.read_excel('C:/Users/admin/Desktop/스프린트1/광주전남 일별 전력사용량데이터/전력량추이정보+현황_2021.04.xls')\n",
    "elc_2021_05 = pd.read_excel('C:/Users/admin/Desktop/스프린트1/광주전남 일별 전력사용량데이터/전력량추이정보+현황_2021.05.xls')\n",
    "elc_2021_06 = pd.read_excel('C:/Users/admin/Desktop/스프린트1/광주전남 일별 전력사용량데이터/전력량추이정보+현황_2021.06.xls')\n",
    "elc_2021_07 = pd.read_excel('C:/Users/admin/Desktop/스프린트1/광주전남 일별 전력사용량데이터/전력량추이정보+현황_2021.07.xls')\n",
    "elc_2021_08 = pd.read_excel('C:/Users/admin/Desktop/스프린트1/광주전남 일별 전력사용량데이터/전력량추이정보+현황_2021.08.xls')\n",
    "elc_2021_09 = pd.read_excel('C:/Users/admin/Desktop/스프린트1/광주전남 일별 전력사용량데이터/전력량추이정보+현황_2021.09.xls')\n",
    "elc_2021_10 = pd.read_excel('C:/Users/admin/Desktop/스프린트1/광주전남 일별 전력사용량데이터/전력량추이정보+현황_2021.10.xls')\n",
    "elc_2021_11 = pd.read_excel('C:/Users/admin/Desktop/스프린트1/광주전남 일별 전력사용량데이터/전력량추이정보+현황_2021.11.xls')\n",
    "elc_2021_12 = pd.read_excel('C:/Users/admin/Desktop/스프린트1/광주전남 일별 전력사용량데이터/전력량추이정보+현황_2021.12.xls')"
   ]
  },
  {
   "cell_type": "code",
   "execution_count": 23,
   "metadata": {},
   "outputs": [],
   "source": [
    "elc_2021_01.rename(columns=elc_2021_01.iloc[0],inplace=True)\n",
    "elc_2021_02.rename(columns=elc_2021_02.iloc[0],inplace=True)\n",
    "elc_2021_03.rename(columns=elc_2021_03.iloc[0],inplace=True)\n",
    "elc_2021_04.rename(columns=elc_2021_04.iloc[0],inplace=True)\n",
    "elc_2021_05.rename(columns=elc_2021_05.iloc[0],inplace=True)\n",
    "elc_2021_06.rename(columns=elc_2021_06.iloc[0],inplace=True)\n",
    "elc_2021_07.rename(columns=elc_2021_07.iloc[0],inplace=True)\n",
    "elc_2021_08.rename(columns=elc_2021_08.iloc[0],inplace=True)\n",
    "elc_2021_09.rename(columns=elc_2021_09.iloc[0],inplace=True)\n",
    "elc_2021_10.rename(columns=elc_2021_10.iloc[0],inplace=True)\n",
    "elc_2021_11.rename(columns=elc_2021_11.iloc[0],inplace=True)\n",
    "elc_2021_12.rename(columns=elc_2021_12.iloc[0],inplace=True)"
   ]
  },
  {
   "cell_type": "code",
   "execution_count": 25,
   "metadata": {},
   "outputs": [],
   "source": [
    "elc_2021_01.drop(index=0,inplace=True)\n",
    "elc_2021_02.drop(index=0,inplace=True)\n",
    "elc_2021_03.drop(index=0,inplace=True)\n",
    "elc_2021_04.drop(index=0,inplace=True)\n",
    "elc_2021_05.drop(index=0,inplace=True)\n",
    "elc_2021_06.drop(index=0,inplace=True)\n",
    "elc_2021_07.drop(index=0,inplace=True)\n",
    "elc_2021_08.drop(index=0,inplace=True)\n",
    "elc_2021_09.drop(index=0,inplace=True)\n",
    "elc_2021_10.drop(index=0,inplace=True)\n",
    "elc_2021_11.drop(index=0,inplace=True)\n",
    "elc_2021_12.drop(index=0,inplace=True)"
   ]
  },
  {
   "cell_type": "code",
   "execution_count": 31,
   "metadata": {},
   "outputs": [
    {
     "name": "stdout",
     "output_type": "stream",
     "text": [
      "<class 'pandas.core.frame.DataFrame'>\n",
      "RangeIndex: 31 entries, 1 to 31\n",
      "Data columns (total 5 columns):\n",
      " #   Column    Non-Null Count  Dtype \n",
      "---  ------    --------------  ----- \n",
      " 0   No.       31 non-null     object\n",
      " 1   일         31 non-null     object\n",
      " 2   고객수       31 non-null     object\n",
      " 3   최대수요(kW)  31 non-null     object\n",
      " 4   사용량(kWh)  31 non-null     object\n",
      "dtypes: object(5)\n",
      "memory usage: 1.3+ KB\n"
     ]
    }
   ],
   "source": [
    "elc_2021_01.info()"
   ]
  },
  {
   "cell_type": "code",
   "execution_count": 28,
   "metadata": {},
   "outputs": [],
   "source": [
    "elc_2021=pd.concat([elc_2021_01,elc_2021_02,elc_2021_03,elc_2021_04,elc_2021_05,elc_2021_06,elc_2021_07,elc_2021_08,elc_2021_09,elc_2021_10,elc_2021_11,elc_2021_12])"
   ]
  },
  {
   "cell_type": "code",
   "execution_count": 29,
   "metadata": {},
   "outputs": [
    {
     "data": {
      "text/html": [
       "<div>\n",
       "<style scoped>\n",
       "    .dataframe tbody tr th:only-of-type {\n",
       "        vertical-align: middle;\n",
       "    }\n",
       "\n",
       "    .dataframe tbody tr th {\n",
       "        vertical-align: top;\n",
       "    }\n",
       "\n",
       "    .dataframe thead th {\n",
       "        text-align: right;\n",
       "    }\n",
       "</style>\n",
       "<table border=\"1\" class=\"dataframe\">\n",
       "  <thead>\n",
       "    <tr style=\"text-align: right;\">\n",
       "      <th></th>\n",
       "      <th>No.</th>\n",
       "      <th>일</th>\n",
       "      <th>고객수</th>\n",
       "      <th>최대수요(kW)</th>\n",
       "      <th>사용량(kWh)</th>\n",
       "    </tr>\n",
       "  </thead>\n",
       "  <tbody>\n",
       "    <tr>\n",
       "      <th>1</th>\n",
       "      <td>1</td>\n",
       "      <td>01</td>\n",
       "      <td>783260</td>\n",
       "      <td>49,968,118.15</td>\n",
       "      <td>11,154,070.87</td>\n",
       "    </tr>\n",
       "    <tr>\n",
       "      <th>2</th>\n",
       "      <td>2</td>\n",
       "      <td>02</td>\n",
       "      <td>783281</td>\n",
       "      <td>43,576,388.06</td>\n",
       "      <td>10,820,313.94</td>\n",
       "    </tr>\n",
       "    <tr>\n",
       "      <th>3</th>\n",
       "      <td>3</td>\n",
       "      <td>03</td>\n",
       "      <td>783288</td>\n",
       "      <td>44,345,831.21</td>\n",
       "      <td>10,577,876.27</td>\n",
       "    </tr>\n",
       "    <tr>\n",
       "      <th>4</th>\n",
       "      <td>4</td>\n",
       "      <td>04</td>\n",
       "      <td>783288</td>\n",
       "      <td>49,666,971.53</td>\n",
       "      <td>11,410,542.58</td>\n",
       "    </tr>\n",
       "    <tr>\n",
       "      <th>5</th>\n",
       "      <td>5</td>\n",
       "      <td>05</td>\n",
       "      <td>783310</td>\n",
       "      <td>44,114,435.78</td>\n",
       "      <td>11,097,614.74</td>\n",
       "    </tr>\n",
       "    <tr>\n",
       "      <th>...</th>\n",
       "      <td>...</td>\n",
       "      <td>...</td>\n",
       "      <td>...</td>\n",
       "      <td>...</td>\n",
       "      <td>...</td>\n",
       "    </tr>\n",
       "    <tr>\n",
       "      <th>27</th>\n",
       "      <td>27</td>\n",
       "      <td>27</td>\n",
       "      <td>722925</td>\n",
       "      <td>81,378,863.04</td>\n",
       "      <td>17,271,923.61</td>\n",
       "    </tr>\n",
       "    <tr>\n",
       "      <th>28</th>\n",
       "      <td>28</td>\n",
       "      <td>28</td>\n",
       "      <td>724120</td>\n",
       "      <td>87,387,746.14</td>\n",
       "      <td>13,906,304.21</td>\n",
       "    </tr>\n",
       "    <tr>\n",
       "      <th>29</th>\n",
       "      <td>29</td>\n",
       "      <td>29</td>\n",
       "      <td>724317</td>\n",
       "      <td>52,259,810.21</td>\n",
       "      <td>13,551,904.46</td>\n",
       "    </tr>\n",
       "    <tr>\n",
       "      <th>30</th>\n",
       "      <td>30</td>\n",
       "      <td>30</td>\n",
       "      <td>724111</td>\n",
       "      <td>123,001,864.68</td>\n",
       "      <td>19,575,333.57</td>\n",
       "    </tr>\n",
       "    <tr>\n",
       "      <th>31</th>\n",
       "      <td>31</td>\n",
       "      <td>31</td>\n",
       "      <td>723981</td>\n",
       "      <td>53,408,419.92</td>\n",
       "      <td>15,011,622.00</td>\n",
       "    </tr>\n",
       "  </tbody>\n",
       "</table>\n",
       "<p>365 rows × 5 columns</p>\n",
       "</div>"
      ],
      "text/plain": [
       "   No.   일     고객수        최대수요(kW)       사용량(kWh)\n",
       "1    1  01  783260   49,968,118.15  11,154,070.87\n",
       "2    2  02  783281   43,576,388.06  10,820,313.94\n",
       "3    3  03  783288   44,345,831.21  10,577,876.27\n",
       "4    4  04  783288   49,666,971.53  11,410,542.58\n",
       "5    5  05  783310   44,114,435.78  11,097,614.74\n",
       "..  ..  ..     ...             ...            ...\n",
       "27  27  27  722925   81,378,863.04  17,271,923.61\n",
       "28  28  28  724120   87,387,746.14  13,906,304.21\n",
       "29  29  29  724317   52,259,810.21  13,551,904.46\n",
       "30  30  30  724111  123,001,864.68  19,575,333.57\n",
       "31  31  31  723981   53,408,419.92  15,011,622.00\n",
       "\n",
       "[365 rows x 5 columns]"
      ]
     },
     "execution_count": 29,
     "metadata": {},
     "output_type": "execute_result"
    }
   ],
   "source": [
    "elc_2021"
   ]
  },
  {
   "cell_type": "code",
   "execution_count": 21,
   "metadata": {},
   "outputs": [
    {
     "ename": "NameError",
     "evalue": "name 'elc_total' is not defined",
     "output_type": "error",
     "traceback": [
      "\u001b[1;31m---------------------------------------------------------------------------\u001b[0m",
      "\u001b[1;31mNameError\u001b[0m                                 Traceback (most recent call last)",
      "\u001b[1;32m~\\AppData\\Local\\Temp\\ipykernel_36076\\2542438920.py\u001b[0m in \u001b[0;36m<module>\u001b[1;34m\u001b[0m\n\u001b[0;32m      1\u001b[0m \u001b[0mavg\u001b[0m \u001b[1;33m=\u001b[0m \u001b[1;33m[\u001b[0m\u001b[1;34m'총계'\u001b[0m\u001b[1;33m,\u001b[0m\u001b[1;34m'합 계'\u001b[0m\u001b[1;33m]\u001b[0m\u001b[1;33m\u001b[0m\u001b[1;33m\u001b[0m\u001b[0m\n\u001b[1;32m----> 2\u001b[1;33m \u001b[0melc_total\u001b[0m\u001b[1;33m[\u001b[0m\u001b[0melc_total\u001b[0m\u001b[1;33m[\u001b[0m\u001b[1;34m'계약종별'\u001b[0m\u001b[1;33m]\u001b[0m\u001b[1;32min\u001b[0m\u001b[1;33m(\u001b[0m\u001b[0mavg\u001b[0m\u001b[1;33m)\u001b[0m\u001b[1;33m]\u001b[0m\u001b[1;33m\u001b[0m\u001b[1;33m\u001b[0m\u001b[0m\n\u001b[0m",
      "\u001b[1;31mNameError\u001b[0m: name 'elc_total' is not defined"
     ]
    }
   ],
   "source": [
    "avg = ['총계','합 계']\n",
    "elc_total[elc_total['계약종별']in(avg)]"
   ]
  },
  {
   "cell_type": "code",
   "execution_count": 4,
   "metadata": {},
   "outputs": [],
   "source": [
    "temp_df['일시'] = temp_df['일시'].apply(lambda x: pd.to_datetime(str(x),format='%Y-%m'))"
   ]
  },
  {
   "cell_type": "code",
   "execution_count": 5,
   "metadata": {},
   "outputs": [],
   "source": [
    "temp_df['year'] = temp_df['일시'].dt.year\n",
    "temp_df['month'] = temp_df['일시'].dt.month"
   ]
  },
  {
   "cell_type": "code",
   "execution_count": null,
   "metadata": {},
   "outputs": [],
   "source": []
  },
  {
   "cell_type": "code",
   "execution_count": null,
   "metadata": {},
   "outputs": [],
   "source": []
  }
 ],
 "metadata": {
  "kernelspec": {
   "display_name": "base",
   "language": "python",
   "name": "python3"
  },
  "language_info": {
   "codemirror_mode": {
    "name": "ipython",
    "version": 3
   },
   "file_extension": ".py",
   "mimetype": "text/x-python",
   "name": "python",
   "nbconvert_exporter": "python",
   "pygments_lexer": "ipython3",
   "version": "3.9.13"
  },
  "orig_nbformat": 4
 },
 "nbformat": 4,
 "nbformat_minor": 2
}
